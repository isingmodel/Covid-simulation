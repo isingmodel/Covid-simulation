{
 "cells": [
  {
   "cell_type": "code",
   "execution_count": 177,
   "metadata": {},
   "outputs": [],
   "source": [
    "import numpy as np\n",
    "import random\n",
    "import matplotlib.pyplot as plt\n",
    "\n",
    "# parameters\n",
    "total_sub_num = 2000\n",
    "a = 1.3\n",
    "b = 0.\n",
    "max_group_size = 100\n",
    "infection_rate = 0.1\n",
    "\n",
    "\n",
    "#initializing\n",
    "## init sub status\n",
    "sub_status = np.zeros((total_sub_num))\n",
    "\n",
    "## initial infectious\n",
    "infectious_count = int(total_sub_num / 100)\n",
    "infectious_idx = np.random.choice(total_sub_num,\n",
    "                                  infectious_count)\n",
    "sub_status[infectious_idx] = 1\n",
    "group_size_arr = np.arange(1, max_group_size, 1)"
   ]
  },
  {
   "cell_type": "code",
   "execution_count": 158,
   "metadata": {},
   "outputs": [],
   "source": [
    "group_size_weight = exp_func(group_size_arr, a, b) / exp_func(1, a, b)\n",
    "\n",
    "group_list = []\n",
    "group_count = 0\n",
    "\n",
    "# get random size list of group_size\n",
    "while total_sub_num > group_count:\n",
    "    group_size = random.choices(group_size_arr, \n",
    "                                weights=group_size_weight)[0]\n",
    "    group_count += group_size\n",
    "    group_list.append(group_size)\n",
    "    \n",
    "\n",
    "# fit sum of total group size to total_sub_num\n",
    "last_group_size = total_sub_num - (group_count - group_list[-1])\n",
    "if last_group_size != 0:\n",
    "    del group_list[-1]\n",
    "    group_list.append(last_group_size)\n",
    "\n",
    "start_idx_arr = np.concatenate(([0], np.cumsum(group_list)))[:-1]\n",
    "end_idx_arr = np.cumsum(group_list)\n",
    "group_index_info = np.column_stack((start_idx, end_idx))"
   ]
  },
  {
   "cell_type": "code",
   "execution_count": 179,
   "metadata": {},
   "outputs": [
    {
     "name": "stdout",
     "output_type": "stream",
     "text": [
      " no meeting\n",
      " no meeting\n",
      " no meeting\n",
      " no meeting\n",
      " no meeting\n",
      " no meeting\n",
      " no meeting\n",
      " no meeting\n",
      " no meeting\n",
      " no meeting\n",
      " no meeting\n",
      " no meeting\n",
      " no meeting\n",
      " no meeting\n",
      " no meeting\n",
      " no meeting\n",
      " no meeting\n",
      " no meeting\n",
      " no meeting\n",
      " no meeting\n",
      " no meeting\n",
      " no meeting\n",
      " no meeting\n",
      " no meeting\n",
      " no meeting\n",
      " no meeting\n",
      " no meeting\n",
      " no meeting\n",
      " no meeting\n",
      " no meeting\n",
      " no meeting\n",
      " no meeting\n",
      " no meeting\n",
      " no meeting\n",
      " no meeting\n",
      " no meeting\n",
      " no meeting\n",
      " no meeting\n",
      " no meeting\n",
      " no meeting\n",
      " no meeting\n",
      " no meeting\n",
      " no meeting\n",
      " no meeting\n",
      " no meeting\n",
      " no meeting\n",
      " no meeting\n",
      " no meeting\n",
      " no meeting\n",
      " no meeting\n",
      " no meeting\n",
      " no meeting\n"
     ]
    }
   ],
   "source": [
    "suffled_sub_idx = np.arange(2000) #TODO: except quarantined people. \n",
    "np.random.shuffle(suffled_sub_idx)\n",
    "number_of_groups = group_index_info.shape[0]\n",
    "for group_no in range(number_of_groups):\n",
    "    st = group_index_info[group_no, 0]\n",
    "    en = group_index_info[group_no, 1]\n",
    "    if en-st == 1:\n",
    "        #no meeting \n",
    "        continue\n",
    "    else:\n",
    "        #infectus update\n",
    "        \n",
    "        \n",
    "#     suffled_sub_idx[st:en]\n",
    "    "
   ]
  },
  {
   "cell_type": "code",
   "execution_count": null,
   "metadata": {},
   "outputs": [],
   "source": []
  },
  {
   "cell_type": "code",
   "execution_count": 111,
   "metadata": {},
   "outputs": [],
   "source": [
    "def exp_func(x, a, b):\n",
    "    y = (x**(-a)) + b\n",
    "    return y\n",
    "\n",
    "\n",
    "    "
   ]
  },
  {
   "cell_type": "code",
   "execution_count": 114,
   "metadata": {},
   "outputs": [
    {
     "data": {
      "text/plain": [
       "[2,\n",
       " 17,\n",
       " 3,\n",
       " 1,\n",
       " 12,\n",
       " 1,\n",
       " 53,\n",
       " 7,\n",
       " 1,\n",
       " 2,\n",
       " 4,\n",
       " 9,\n",
       " 19,\n",
       " 12,\n",
       " 6,\n",
       " 1,\n",
       " 5,\n",
       " 43,\n",
       " 10,\n",
       " 2,\n",
       " 3,\n",
       " 4,\n",
       " 2,\n",
       " 1,\n",
       " 1,\n",
       " 17,\n",
       " 11,\n",
       " 22,\n",
       " 2,\n",
       " 12]"
      ]
     },
     "execution_count": 114,
     "metadata": {},
     "output_type": "execute_result"
    }
   ],
   "source": [
    "random.choices(group_size_arr, weights=group_size_weight, k=30)"
   ]
  },
  {
   "cell_type": "code",
   "execution_count": null,
   "metadata": {},
   "outputs": [],
   "source": []
  }
 ],
 "metadata": {
  "kernelspec": {
   "display_name": "Python 3",
   "language": "python",
   "name": "python3"
  },
  "language_info": {
   "codemirror_mode": {
    "name": "ipython",
    "version": 3
   },
   "file_extension": ".py",
   "mimetype": "text/x-python",
   "name": "python",
   "nbconvert_exporter": "python",
   "pygments_lexer": "ipython3",
   "version": "3.8.2"
  }
 },
 "nbformat": 4,
 "nbformat_minor": 4
}
